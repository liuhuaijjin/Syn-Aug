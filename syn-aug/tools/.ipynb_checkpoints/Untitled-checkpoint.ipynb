{
 "cells": [
  {
   "cell_type": "code",
   "execution_count": 1,
   "id": "dfd3650d",
   "metadata": {},
   "outputs": [
    {
     "name": "stdout",
     "output_type": "stream",
     "text": [
      "/media/hqu/A17968E7B11F4F22/PycharmProjects/EPNet/pa-aug/pa-aug\n"
     ]
    }
   ],
   "source": [
    "cd .."
   ]
  },
  {
   "cell_type": "code",
   "execution_count": 2,
   "id": "86e8afe9",
   "metadata": {},
   "outputs": [
    {
     "name": "stdout",
     "output_type": "stream",
     "text": [
      "Notebook initialized with ipy backend.\n"
     ]
    }
   ],
   "source": [
    "import os\n",
    "import mayavi.mlab as mlab\n",
    "import numpy as np\n",
    "from copy import deepcopy\n",
    "import pickle\n",
    "import logging\n",
    "import math\n",
    "\n",
    "import pcdet.datasets.augmentor\n",
    "\n",
    "from pcdet.config import cfg, cfg_from_yaml_file\n",
    "from pcdet.datasets import build_dataloader\n",
    "from pcdet.utils import common_utils\n",
    "from pcdet.models import build_network\n",
    "from tools.visual_utils import visualize_utils as V\n",
    "\n",
    "from PIL import Image, ImageDraw\n",
    "\n",
    "mlab.init_notebook()"
   ]
  },
  {
   "cell_type": "code",
   "execution_count": 3,
   "id": "df3671e2",
   "metadata": {},
   "outputs": [],
   "source": [
    "logger = common_utils.create_logger(log_level=logging.INFO)\n"
   ]
  },
  {
   "cell_type": "code",
   "execution_count": 4,
   "id": "a3a33995",
   "metadata": {},
   "outputs": [
    {
     "name": "stderr",
     "output_type": "stream",
     "text": [
      "2022-03-26 16:18:21,866   INFO  Database filter by min points Car: 14357 => 13532\n",
      "2022-03-26 16:18:21,866   INFO  Database filter by min points Pedestrian: 2207 => 2168\n",
      "2022-03-26 16:18:21,867   INFO  Database filter by min points Cyclist: 734 => 705\n",
      "2022-03-26 16:18:21,880   INFO  Database filter by difficulty Car: 13532 => 10759\n",
      "2022-03-26 16:18:21,882   INFO  Database filter by difficulty Pedestrian: 2168 => 2075\n",
      "2022-03-26 16:18:21,883   INFO  Database filter by difficulty Cyclist: 705 => 581\n",
      "2022-03-26 16:18:21,920   INFO  Loading KITTI dataset\n",
      "2022-03-26 16:18:21,989   INFO  Total samples for KITTI dataset: 3712\n",
      "2022-03-26 16:18:21,990   INFO  Total number of samples: \t3712\n",
      "2022-03-26 16:18:21,990   INFO  Loading samples\n",
      "2022-03-26 16:18:22,073   INFO  Loaded sample index: \t1\n",
      "2022-03-26 16:18:22,162   INFO  Loaded sample index: \t2\n",
      "2022-03-26 16:18:22,262   INFO  Loaded sample index: \t3\n",
      "2022-03-26 16:18:22,353   INFO  Loaded sample index: \t4\n",
      "2022-03-26 16:18:22,439   INFO  Loaded sample index: \t5\n",
      "2022-03-26 16:18:22,537   INFO  Loaded sample index: \t6\n"
     ]
    }
   ],
   "source": [
    "cfg_from_yaml_file('tools/cfgs/dataset_configs/kitti_dataset.yaml', cfg)\n",
    "# cfg_from_yaml_file('tools/cfgs/kitti_models/pointpillar_augs.yaml', cfg)\n",
    "\n",
    "cfg.DATA_PATH = 'data/kitti'\n",
    "\n",
    "train_set, train_loader, train_sampler = build_dataloader(\n",
    "    dataset_cfg=cfg,\n",
    "    class_names=['Car', 'Pedestrian', 'Cyclist'],\n",
    "    batch_size=1,\n",
    "    dist=False,\n",
    "    workers=4,\n",
    "    logger=logger,\n",
    "    training=True,\n",
    "    merge_all_iters_to_one_epoch=False,\n",
    "    total_epochs=0\n",
    ")\n",
    "\n",
    "logger.info(f'Total number of samples: \\t{len(train_set)}')\n",
    "\n",
    "data_dict_list = []\n",
    "logger.info('Loading samples')\n",
    "for idx, data_dict in enumerate(train_set):\n",
    "    logger.info(f'Loaded sample index: \\t{idx + 1}')\n",
    "    data_dict = train_set.collate_batch([data_dict])\n",
    "    data_dict_list.append(data_dict)\n",
    "    if idx >= 5: break"
   ]
  },
  {
   "cell_type": "code",
   "execution_count": 29,
   "id": "26369619",
   "metadata": {},
   "outputs": [
    {
     "name": "stdout",
     "output_type": "stream",
     "text": [
      "(23147, 5) (1, 36, 8)\n"
     ]
    }
   ],
   "source": [
    "scene = data_dict_list[3]\n",
    "print(scene['points'].shape,scene['gt_boxes'].shape)"
   ]
  },
  {
   "cell_type": "code",
   "execution_count": 42,
   "id": "7eea0b71",
   "metadata": {},
   "outputs": [],
   "source": [
    "#currfig = mlab.figure(bgcolor=(1,0,1), size=(1280,720))\n",
    "data_dict=data_dict_list[4]\n",
    "V.draw_scenes(points=data_dict['points'][:, 1:], gt_boxes=data_dict['gt_boxes'][0])\n",
    "\n",
    "    #cam = currfig.scene.camera\n",
    "    #cam.zoom(2)\n",
    "mlab.show()\n",
    "    #return currfig\n"
   ]
  },
  {
   "cell_type": "code",
   "execution_count": 49,
   "id": "10c9124c",
   "metadata": {},
   "outputs": [],
   "source": [
    "def show_bev(data_dict):\n",
    "    currfig = mlab.figure(bgcolor=(1,1,1),size=(1280,1280))\n",
    "    \n",
    "    V.draw_scenes(\n",
    "        points=data_dict['points'][:, 1:], gt_boxes=data_dict['gt_boxes'][0]\n",
    "    )\n",
    "\n",
    "    mlab.view(azimuth=-179, elevation=0, distance=120.0, roll=90.0)\n",
    "    \n",
    "    cam = currfig.scene.camera\n",
    "    cam.zoom(2)\n",
    "\n",
    "    return currfig"
   ]
  },
  {
   "cell_type": "code",
   "execution_count": 33,
   "id": "d390b5d8",
   "metadata": {},
   "outputs": [
    {
     "name": "stderr",
     "output_type": "stream",
     "text": [
      "2022-03-26 17:02:55,364   INFO  Saved mosaic_0.png\n",
      "2022-03-26 17:03:18,539   INFO  Saved mosaic_1.png\n",
      "2022-03-26 17:03:46,771   INFO  Saved mosaic_2.png\n",
      "2022-03-26 17:04:11,647   INFO  Saved mosaic_3.png\n",
      "2022-03-26 17:04:35,394   INFO  Saved mosaic_4.png\n",
      "2022-03-26 17:04:57,148   INFO  Saved mosaic_5.png\n"
     ]
    }
   ],
   "source": [
    "for idx, scene in enumerate(data_dict_list):\n",
    "    currfig = show_bev(scene)\n",
    "    mlab.savefig('figs/mosaic/mosaic_%d.png' % idx, size=(1280,1280))\n",
    "    logger.info('Saved mosaic_%d.png' % idx)\n",
    "    currfig"
   ]
  },
  {
   "cell_type": "code",
   "execution_count": 23,
   "id": "3cdc0b73",
   "metadata": {},
   "outputs": [],
   "source": [
    "collage = Image.new(\"RGBA\", (3000,3000), color=(255,255,255,255))\n",
    "\n",
    "c=0\n",
    "for i in range(0,4,1):\n",
    "    for j in range(0,4,1):\n",
    "        file = 'figs/mosaic/mosaic_%d.png' % c\n",
    "        photo = Image.open(file).convert(\"RGBA\")\n",
    "        photo = photo.resize((500,500))        \n",
    "        \n",
    "        collage.paste(photo, (i,j))\n",
    "        c\n",
    "collage.save('figs/mosaic/collage.png')"
   ]
  },
  {
   "cell_type": "code",
   "execution_count": 50,
   "id": "f4bfb04a",
   "metadata": {},
   "outputs": [
    {
     "data": {
      "application/vnd.jupyter.widget-view+json": {
       "model_id": "dd90a73490a341b285e6c3aff142391f",
       "version_major": 2,
       "version_minor": 0
      },
      "text/plain": [
       "Image(value=b'\\x89PNG\\r\\n\\x1a\\n\\x00\\x00\\x00\\rIHDR\\x00\\x00\\x02X\\x00\\x00\\x02X\\x08\\x02\\x00\\x00\\x001\\x04\\x0f\\x8b\\x…"
      ]
     },
     "metadata": {},
     "output_type": "display_data"
    }
   ],
   "source": [
    "currfig = show_bev(data_dict_list[2])\n",
    "mlab.savefig('figs/aug_pipeline_output.png', size=(1280,720))\n",
    "currfig"
   ]
  },
  {
   "cell_type": "code",
   "execution_count": 39,
   "id": "0e77a01e",
   "metadata": {},
   "outputs": [
    {
     "name": "stdout",
     "output_type": "stream",
     "text": [
      "(18844, 3) (34, 8)\n"
     ]
    }
   ],
   "source": [
    "fig=mlab.figure(bgcolor=(0,0,0),size=(1280,750))\n",
    "scene=data_dict_list[4]\n",
    "print(scene['points'][:,1:4].shape,scene['gt_boxes'][0].shape)\n",
    "pointcloud=scene['points'][:,1:4]\n",
    "gt_boxes=scene['gt_boxes'][0]\n",
    "mlab.points3d(pointcloud[:,0],pointcloud[:,1],pointcloud[:,2], mode=\"point\",colormap='spectral',figure=fig)\n",
    "mlab.show()"
   ]
  },
  {
   "cell_type": "code",
   "execution_count": 54,
   "id": "0e07de48",
   "metadata": {},
   "outputs": [
    {
     "data": {
      "application/vnd.jupyter.widget-view+json": {
       "model_id": "dd90a73490a341b285e6c3aff142391f",
       "version_major": 2,
       "version_minor": 0
      },
      "text/plain": [
       "Image(value=b'\\x89PNG\\r\\n\\x1a\\n\\x00\\x00\\x00\\rIHDR\\x00\\x00\\x02X\\x00\\x00\\x02X\\x08\\x02\\x00\\x00\\x001\\x04\\x0f\\x8b\\x…"
      ]
     },
     "metadata": {},
     "output_type": "display_data"
    }
   ],
   "source": [
    "mlab.test_plot3d()\n",
    "mlab.axes()"
   ]
  },
  {
   "cell_type": "code",
   "execution_count": 52,
   "id": "68e16df8",
   "metadata": {},
   "outputs": [
    {
     "name": "stdout",
     "output_type": "stream",
     "text": [
      "Looking in indexes: https://pypi.org/simple, https://pypi.ngc.nvidia.com\n",
      "Requirement already satisfied: ipywidgets in /home/hqu/anaconda3/envs/pcdet-pa-aug/lib/python3.7/site-packages (7.6.5)\n",
      "Requirement already satisfied: nbformat>=4.2.0 in /home/hqu/anaconda3/envs/pcdet-pa-aug/lib/python3.7/site-packages (from ipywidgets) (5.1.3)\n",
      "Requirement already satisfied: jupyterlab-widgets>=1.0.0 in /home/hqu/anaconda3/envs/pcdet-pa-aug/lib/python3.7/site-packages (from ipywidgets) (1.0.0)\n",
      "Requirement already satisfied: ipykernel>=4.5.1 in /home/hqu/anaconda3/envs/pcdet-pa-aug/lib/python3.7/site-packages (from ipywidgets) (5.3.4)\n",
      "Requirement already satisfied: ipython-genutils~=0.2.0 in /home/hqu/anaconda3/envs/pcdet-pa-aug/lib/python3.7/site-packages (from ipywidgets) (0.2.0)\n",
      "Requirement already satisfied: widgetsnbextension~=3.5.0 in /home/hqu/anaconda3/envs/pcdet-pa-aug/lib/python3.7/site-packages (from ipywidgets) (3.5.2)\n",
      "Requirement already satisfied: traitlets>=4.3.1 in /home/hqu/anaconda3/envs/pcdet-pa-aug/lib/python3.7/site-packages (from ipywidgets) (5.1.1)\n",
      "Requirement already satisfied: ipython>=4.0.0 in /home/hqu/anaconda3/envs/pcdet-pa-aug/lib/python3.7/site-packages (from ipywidgets) (7.31.1)\n",
      "Requirement already satisfied: tornado>=4.2 in /home/hqu/anaconda3/envs/pcdet-pa-aug/lib/python3.7/site-packages (from ipykernel>=4.5.1->ipywidgets) (6.1)\n",
      "Requirement already satisfied: jupyter-client in /home/hqu/anaconda3/envs/pcdet-pa-aug/lib/python3.7/site-packages (from ipykernel>=4.5.1->ipywidgets) (7.1.2)\n",
      "Requirement already satisfied: setuptools>=18.5 in /home/hqu/anaconda3/envs/pcdet-pa-aug/lib/python3.7/site-packages (from ipython>=4.0.0->ipywidgets) (58.0.4)\n",
      "Requirement already satisfied: prompt-toolkit!=3.0.0,!=3.0.1,<3.1.0,>=2.0.0 in /home/hqu/anaconda3/envs/pcdet-pa-aug/lib/python3.7/site-packages (from ipython>=4.0.0->ipywidgets) (3.0.20)\n",
      "Requirement already satisfied: matplotlib-inline in /home/hqu/anaconda3/envs/pcdet-pa-aug/lib/python3.7/site-packages (from ipython>=4.0.0->ipywidgets) (0.1.2)\n",
      "Requirement already satisfied: pexpect>4.3 in /home/hqu/anaconda3/envs/pcdet-pa-aug/lib/python3.7/site-packages (from ipython>=4.0.0->ipywidgets) (4.8.0)\n",
      "Requirement already satisfied: backcall in /home/hqu/anaconda3/envs/pcdet-pa-aug/lib/python3.7/site-packages (from ipython>=4.0.0->ipywidgets) (0.2.0)\n",
      "Requirement already satisfied: jedi>=0.16 in /home/hqu/anaconda3/envs/pcdet-pa-aug/lib/python3.7/site-packages (from ipython>=4.0.0->ipywidgets) (0.18.1)\n",
      "Requirement already satisfied: pickleshare in /home/hqu/anaconda3/envs/pcdet-pa-aug/lib/python3.7/site-packages (from ipython>=4.0.0->ipywidgets) (0.7.5)\n",
      "Requirement already satisfied: pygments in /home/hqu/anaconda3/envs/pcdet-pa-aug/lib/python3.7/site-packages (from ipython>=4.0.0->ipywidgets) (2.11.2)\n",
      "Requirement already satisfied: decorator in /home/hqu/anaconda3/envs/pcdet-pa-aug/lib/python3.7/site-packages (from ipython>=4.0.0->ipywidgets) (5.1.1)\n",
      "Requirement already satisfied: parso<0.9.0,>=0.8.0 in /home/hqu/anaconda3/envs/pcdet-pa-aug/lib/python3.7/site-packages (from jedi>=0.16->ipython>=4.0.0->ipywidgets) (0.8.3)\n",
      "Requirement already satisfied: jupyter-core in /home/hqu/anaconda3/envs/pcdet-pa-aug/lib/python3.7/site-packages (from nbformat>=4.2.0->ipywidgets) (4.9.2)\n",
      "Requirement already satisfied: jsonschema!=2.5.0,>=2.4 in /home/hqu/anaconda3/envs/pcdet-pa-aug/lib/python3.7/site-packages (from nbformat>=4.2.0->ipywidgets) (3.2.0)\n",
      "Requirement already satisfied: six>=1.11.0 in /home/hqu/anaconda3/envs/pcdet-pa-aug/lib/python3.7/site-packages (from jsonschema!=2.5.0,>=2.4->nbformat>=4.2.0->ipywidgets) (1.16.0)\n",
      "Requirement already satisfied: importlib-metadata in /home/hqu/anaconda3/envs/pcdet-pa-aug/lib/python3.7/site-packages (from jsonschema!=2.5.0,>=2.4->nbformat>=4.2.0->ipywidgets) (4.8.2)\n",
      "Requirement already satisfied: attrs>=17.4.0 in /home/hqu/anaconda3/envs/pcdet-pa-aug/lib/python3.7/site-packages (from jsonschema!=2.5.0,>=2.4->nbformat>=4.2.0->ipywidgets) (21.4.0)\n",
      "Requirement already satisfied: pyrsistent>=0.14.0 in /home/hqu/anaconda3/envs/pcdet-pa-aug/lib/python3.7/site-packages (from jsonschema!=2.5.0,>=2.4->nbformat>=4.2.0->ipywidgets) (0.18.0)\n",
      "Requirement already satisfied: ptyprocess>=0.5 in /home/hqu/anaconda3/envs/pcdet-pa-aug/lib/python3.7/site-packages (from pexpect>4.3->ipython>=4.0.0->ipywidgets) (0.7.0)\n",
      "Requirement already satisfied: wcwidth in /home/hqu/anaconda3/envs/pcdet-pa-aug/lib/python3.7/site-packages (from prompt-toolkit!=3.0.0,!=3.0.1,<3.1.0,>=2.0.0->ipython>=4.0.0->ipywidgets) (0.2.5)\n",
      "Requirement already satisfied: notebook>=4.4.1 in /home/hqu/anaconda3/envs/pcdet-pa-aug/lib/python3.7/site-packages (from widgetsnbextension~=3.5.0->ipywidgets) (6.4.8)\n",
      "Requirement already satisfied: pyzmq>=17 in /home/hqu/anaconda3/envs/pcdet-pa-aug/lib/python3.7/site-packages (from notebook>=4.4.1->widgetsnbextension~=3.5.0->ipywidgets) (22.3.0)\n",
      "Requirement already satisfied: nest-asyncio>=1.5 in /home/hqu/anaconda3/envs/pcdet-pa-aug/lib/python3.7/site-packages (from notebook>=4.4.1->widgetsnbextension~=3.5.0->ipywidgets) (1.5.1)\n",
      "Requirement already satisfied: prometheus-client in /home/hqu/anaconda3/envs/pcdet-pa-aug/lib/python3.7/site-packages (from notebook>=4.4.1->widgetsnbextension~=3.5.0->ipywidgets) (0.13.1)\n",
      "Requirement already satisfied: nbconvert in /home/hqu/anaconda3/envs/pcdet-pa-aug/lib/python3.7/site-packages (from notebook>=4.4.1->widgetsnbextension~=3.5.0->ipywidgets) (6.3.0)\n",
      "Requirement already satisfied: argon2-cffi in /home/hqu/anaconda3/envs/pcdet-pa-aug/lib/python3.7/site-packages (from notebook>=4.4.1->widgetsnbextension~=3.5.0->ipywidgets) (21.3.0)\n",
      "Requirement already satisfied: Send2Trash>=1.8.0 in /home/hqu/anaconda3/envs/pcdet-pa-aug/lib/python3.7/site-packages (from notebook>=4.4.1->widgetsnbextension~=3.5.0->ipywidgets) (1.8.0)\n",
      "Requirement already satisfied: terminado>=0.8.3 in /home/hqu/anaconda3/envs/pcdet-pa-aug/lib/python3.7/site-packages (from notebook>=4.4.1->widgetsnbextension~=3.5.0->ipywidgets) (0.13.1)\n",
      "Requirement already satisfied: jinja2 in /home/hqu/anaconda3/envs/pcdet-pa-aug/lib/python3.7/site-packages (from notebook>=4.4.1->widgetsnbextension~=3.5.0->ipywidgets) (3.0.3)\n",
      "Requirement already satisfied: python-dateutil>=2.1 in /home/hqu/anaconda3/envs/pcdet-pa-aug/lib/python3.7/site-packages (from jupyter-client->ipykernel>=4.5.1->ipywidgets) (2.8.2)\n",
      "Requirement already satisfied: entrypoints in /home/hqu/anaconda3/envs/pcdet-pa-aug/lib/python3.7/site-packages (from jupyter-client->ipykernel>=4.5.1->ipywidgets) (0.3)\n",
      "Requirement already satisfied: typing-extensions in /home/hqu/anaconda3/envs/pcdet-pa-aug/lib/python3.7/site-packages (from argon2-cffi->notebook>=4.4.1->widgetsnbextension~=3.5.0->ipywidgets) (4.1.1)\n",
      "Requirement already satisfied: argon2-cffi-bindings in /home/hqu/anaconda3/envs/pcdet-pa-aug/lib/python3.7/site-packages (from argon2-cffi->notebook>=4.4.1->widgetsnbextension~=3.5.0->ipywidgets) (21.2.0)\n",
      "Requirement already satisfied: cffi>=1.0.1 in /home/hqu/anaconda3/envs/pcdet-pa-aug/lib/python3.7/site-packages (from argon2-cffi-bindings->argon2-cffi->notebook>=4.4.1->widgetsnbextension~=3.5.0->ipywidgets) (1.15.0)\n",
      "Requirement already satisfied: pycparser in /home/hqu/anaconda3/envs/pcdet-pa-aug/lib/python3.7/site-packages (from cffi>=1.0.1->argon2-cffi-bindings->argon2-cffi->notebook>=4.4.1->widgetsnbextension~=3.5.0->ipywidgets) (2.21)\n",
      "Requirement already satisfied: zipp>=0.5 in /home/hqu/anaconda3/envs/pcdet-pa-aug/lib/python3.7/site-packages (from importlib-metadata->jsonschema!=2.5.0,>=2.4->nbformat>=4.2.0->ipywidgets) (3.7.0)\n",
      "Requirement already satisfied: MarkupSafe>=2.0 in /home/hqu/anaconda3/envs/pcdet-pa-aug/lib/python3.7/site-packages (from jinja2->notebook>=4.4.1->widgetsnbextension~=3.5.0->ipywidgets) (2.0.1)\n",
      "Requirement already satisfied: pandocfilters>=1.4.1 in /home/hqu/anaconda3/envs/pcdet-pa-aug/lib/python3.7/site-packages (from nbconvert->notebook>=4.4.1->widgetsnbextension~=3.5.0->ipywidgets) (1.5.0)\n",
      "Requirement already satisfied: jupyterlab-pygments in /home/hqu/anaconda3/envs/pcdet-pa-aug/lib/python3.7/site-packages (from nbconvert->notebook>=4.4.1->widgetsnbextension~=3.5.0->ipywidgets) (0.1.2)\n",
      "Requirement already satisfied: nbclient<0.6.0,>=0.5.0 in /home/hqu/anaconda3/envs/pcdet-pa-aug/lib/python3.7/site-packages (from nbconvert->notebook>=4.4.1->widgetsnbextension~=3.5.0->ipywidgets) (0.5.11)\n",
      "Requirement already satisfied: testpath in /home/hqu/anaconda3/envs/pcdet-pa-aug/lib/python3.7/site-packages (from nbconvert->notebook>=4.4.1->widgetsnbextension~=3.5.0->ipywidgets) (0.5.0)\n",
      "Requirement already satisfied: defusedxml in /home/hqu/anaconda3/envs/pcdet-pa-aug/lib/python3.7/site-packages (from nbconvert->notebook>=4.4.1->widgetsnbextension~=3.5.0->ipywidgets) (0.7.1)\n",
      "Requirement already satisfied: bleach in /home/hqu/anaconda3/envs/pcdet-pa-aug/lib/python3.7/site-packages (from nbconvert->notebook>=4.4.1->widgetsnbextension~=3.5.0->ipywidgets) (4.1.0)\n",
      "Requirement already satisfied: mistune<2,>=0.8.1 in /home/hqu/anaconda3/envs/pcdet-pa-aug/lib/python3.7/site-packages (from nbconvert->notebook>=4.4.1->widgetsnbextension~=3.5.0->ipywidgets) (0.8.4)\n"
     ]
    },
    {
     "name": "stdout",
     "output_type": "stream",
     "text": [
      "Requirement already satisfied: webencodings in /home/hqu/anaconda3/envs/pcdet-pa-aug/lib/python3.7/site-packages (from bleach->nbconvert->notebook>=4.4.1->widgetsnbextension~=3.5.0->ipywidgets) (0.5.1)\n",
      "Requirement already satisfied: packaging in /home/hqu/anaconda3/envs/pcdet-pa-aug/lib/python3.7/site-packages (from bleach->nbconvert->notebook>=4.4.1->widgetsnbextension~=3.5.0->ipywidgets) (21.3)\n",
      "Requirement already satisfied: pyparsing!=3.0.5,>=2.0.2 in /home/hqu/anaconda3/envs/pcdet-pa-aug/lib/python3.7/site-packages (from packaging->bleach->nbconvert->notebook>=4.4.1->widgetsnbextension~=3.5.0->ipywidgets) (3.0.4)\n",
      "Note: you may need to restart the kernel to use updated packages.\n"
     ]
    }
   ],
   "source": [
    "pip install ipywidgets"
   ]
  },
  {
   "cell_type": "code",
   "execution_count": 53,
   "id": "29c5ca3a",
   "metadata": {},
   "outputs": [
    {
     "name": "stdout",
     "output_type": "stream",
     "text": [
      "# packages in environment at /home/hqu/anaconda3/envs/pcdet-pa-aug:\r\n",
      "#\r\n",
      "# Name                    Version                   Build  Channel\r\n",
      "_libgcc_mutex             0.1                        main  \r\n",
      "_openmp_mutex             4.5                       1_gnu  \r\n",
      "aiohttp                   3.8.1                    pypi_0    pypi\r\n",
      "aiosignal                 1.2.0                    pypi_0    pypi\r\n",
      "apptools                  5.1.0                    pypi_0    pypi\r\n",
      "argon2-cffi               21.3.0             pyhd3eb1b0_0  \r\n",
      "argon2-cffi-bindings      21.2.0           py37h7f8727e_0  \r\n",
      "asttokens                 2.0.5              pyhd3eb1b0_0  \r\n",
      "async-timeout             4.0.2                    pypi_0    pypi\r\n",
      "asynctest                 0.13.0                   pypi_0    pypi\r\n",
      "attrs                     21.4.0             pyhd3eb1b0_0  \r\n",
      "backcall                  0.2.0              pyhd3eb1b0_0  \r\n",
      "bleach                    4.1.0              pyhd3eb1b0_0  \r\n",
      "ca-certificates           2022.3.18            h06a4308_0  \r\n",
      "certifi                   2021.10.8        py37h06a4308_2  \r\n",
      "cffi                      1.15.0           py37hd667e15_1  \r\n",
      "charset-normalizer        2.0.12                   pypi_0    pypi\r\n",
      "cmake                     3.22.3                   pypi_0    pypi\r\n",
      "configobj                 5.0.6                    pypi_0    pypi\r\n",
      "cycler                    0.11.0                   pypi_0    pypi\r\n",
      "dbus                      1.13.18              hb2f20db_0  \r\n",
      "decorator                 5.1.1              pyhd3eb1b0_0  \r\n",
      "defusedxml                0.7.1              pyhd3eb1b0_0  \r\n",
      "easydict                  1.9                      pypi_0    pypi\r\n",
      "entrypoints               0.3                      py37_0  \r\n",
      "envisage                  6.0.1                    pypi_0    pypi\r\n",
      "executing                 0.8.3              pyhd3eb1b0_0  \r\n",
      "expat                     2.4.4                h295c915_0  \r\n",
      "fontconfig                2.13.1               h6c09931_0  \r\n",
      "fonttools                 4.31.2                   pypi_0    pypi\r\n",
      "freetype                  2.11.0               h70c0345_0  \r\n",
      "frozenlist                1.3.0                    pypi_0    pypi\r\n",
      "glib                      2.69.1               h4ff587b_1  \r\n",
      "gst-plugins-base          1.14.0               h8213a91_2  \r\n",
      "gstreamer                 1.14.0               h28cd5cc_2  \r\n",
      "icu                       58.2                 he6710b0_3  \r\n",
      "idna                      3.3                      pypi_0    pypi\r\n",
      "imageio                   2.16.1                   pypi_0    pypi\r\n",
      "importlib-metadata        4.8.2            py37h06a4308_0  \r\n",
      "importlib-resources       5.6.0                    pypi_0    pypi\r\n",
      "importlib_metadata        4.8.2                hd3eb1b0_0  \r\n",
      "ipyevents                 2.0.1                    pypi_0    pypi\r\n",
      "ipykernel                 5.3.4            py37h5ca1d4c_0  \r\n",
      "ipython                   7.31.1           py37h06a4308_0  \r\n",
      "ipython_genutils          0.2.0              pyhd3eb1b0_1  \r\n",
      "ipywidgets                7.6.5              pyhd3eb1b0_1  \r\n",
      "jedi                      0.18.1           py37h06a4308_1  \r\n",
      "jinja2                    3.0.3              pyhd3eb1b0_0  \r\n",
      "jpeg                      9d                   h7f8727e_0  \r\n",
      "jsonschema                3.2.0              pyhd3eb1b0_2  \r\n",
      "jupyter_client            7.1.2              pyhd3eb1b0_0  \r\n",
      "jupyter_console           6.4.3              pyhd3eb1b0_0  \r\n",
      "jupyter_core              4.9.2            py37h06a4308_0  \r\n",
      "jupyterlab_pygments       0.1.2                      py_0  \r\n",
      "jupyterlab_widgets        1.0.0              pyhd3eb1b0_1  \r\n",
      "kiwisolver                1.4.0                    pypi_0    pypi\r\n",
      "ld_impl_linux-64          2.35.1               h7274673_9  \r\n",
      "libffi                    3.3                  he6710b0_2  \r\n",
      "libgcc-ng                 9.3.0               h5101ec6_17  \r\n",
      "libgomp                   9.3.0               h5101ec6_17  \r\n",
      "libpng                    1.6.37               hbc83047_0  \r\n",
      "libsodium                 1.0.18               h7b6447c_0  \r\n",
      "libstdcxx-ng              9.3.0               hd4cf53a_17  \r\n",
      "libuuid                   1.0.3                h7f8727e_2  \r\n",
      "libxcb                    1.14                 h7b6447c_0  \r\n",
      "libxml2                   2.9.12               h03d6c58_0  \r\n",
      "llvmlite                  0.38.0                   pypi_0    pypi\r\n",
      "markupsafe                2.0.1            py37h27cfd23_0  \r\n",
      "matplotlib                3.5.1                    pypi_0    pypi\r\n",
      "matplotlib-inline         0.1.2              pyhd3eb1b0_2  \r\n",
      "mayavi                    4.7.2                    pypi_0    pypi\r\n",
      "mistune                   0.8.4           py37h14c3975_1001  \r\n",
      "multidict                 6.0.2                    pypi_0    pypi\r\n",
      "nbclient                  0.5.11             pyhd3eb1b0_0  \r\n",
      "nbconvert                 6.3.0            py37h06a4308_0  \r\n",
      "nbformat                  5.1.3              pyhd3eb1b0_0  \r\n",
      "ncurses                   6.3                  h7f8727e_2  \r\n",
      "nest-asyncio              1.5.1              pyhd3eb1b0_0  \r\n",
      "networkx                  2.6.3                    pypi_0    pypi\r\n",
      "notebook                  6.4.8            py37h06a4308_0  \r\n",
      "numba                     0.55.1                   pypi_0    pypi\r\n",
      "numpy                     1.21.5                   pypi_0    pypi\r\n",
      "openssl                   1.1.1n               h7f8727e_0  \r\n",
      "packaging                 21.3               pyhd3eb1b0_0  \r\n",
      "pandocfilters             1.5.0              pyhd3eb1b0_0  \r\n",
      "parso                     0.8.3              pyhd3eb1b0_0  \r\n",
      "pcdet                     0.3.0+0                   dev_0    <develop>\r\n",
      "pcre                      8.45                 h295c915_0  \r\n",
      "pexpect                   4.8.0              pyhd3eb1b0_3  \r\n",
      "pickleshare               0.7.5           pyhd3eb1b0_1003  \r\n",
      "pillow                    9.0.1                    pypi_0    pypi\r\n",
      "pip                       21.2.2           py37h06a4308_0  \r\n",
      "prometheus_client         0.13.1             pyhd3eb1b0_0  \r\n",
      "prompt-toolkit            3.0.20             pyhd3eb1b0_0  \r\n",
      "prompt_toolkit            3.0.20               hd3eb1b0_0  \r\n",
      "protobuf                  3.19.4                   pypi_0    pypi\r\n",
      "ptyprocess                0.7.0              pyhd3eb1b0_2  \r\n",
      "pure_eval                 0.2.2              pyhd3eb1b0_0  \r\n",
      "pycparser                 2.21               pyhd3eb1b0_0  \r\n",
      "pyface                    7.4.1                    pypi_0    pypi\r\n",
      "pygments                  2.11.2             pyhd3eb1b0_0  \r\n",
      "pyparsing                 3.0.4              pyhd3eb1b0_0  \r\n",
      "pyqt                      5.9.2            py37h05f1152_2  \r\n",
      "pyrsistent                0.18.0           py37heee7806_0  \r\n",
      "python                    3.7.11               h12debd9_0  \r\n",
      "python-dateutil           2.8.2              pyhd3eb1b0_0  \r\n",
      "pywavelets                1.3.0                    pypi_0    pypi\r\n",
      "pyyaml                    6.0                      pypi_0    pypi\r\n",
      "pyzmq                     22.3.0           py37h295c915_2  \r\n",
      "qt                        5.9.7                h5867ecd_1  \r\n",
      "qtconsole                 5.2.2              pyhd3eb1b0_0  \r\n",
      "qtpy                      1.11.2             pyhd3eb1b0_0  \r\n",
      "readline                  8.1.2                h7f8727e_1  \r\n",
      "scikit-image              0.19.2                   pypi_0    pypi\r\n",
      "scipy                     1.7.3                    pypi_0    pypi\r\n",
      "send2trash                1.8.0              pyhd3eb1b0_1  \r\n",
      "setuptools                58.0.4           py37h06a4308_0  \r\n",
      "sip                       4.19.8                   pypi_0    pypi\r\n",
      "six                       1.16.0             pyhd3eb1b0_1  \r\n",
      "spconv                    1.2.1                    pypi_0    pypi\r\n",
      "sqlite                    3.38.0               hc218d9a_0  \r\n",
      "stack_data                0.2.0              pyhd3eb1b0_0  \r\n",
      "tensorboardx              2.5                      pypi_0    pypi\r\n",
      "terminado                 0.13.1           py37h06a4308_0  \r\n",
      "testpath                  0.5.0              pyhd3eb1b0_0  \r\n",
      "tifffile                  2021.11.2                pypi_0    pypi\r\n",
      "tk                        8.6.11               h1ccaba5_0  \r\n",
      "torch                     1.7.1+cu110              pypi_0    pypi\r\n",
      "torchaudio                0.7.2                    pypi_0    pypi\r\n",
      "torchvision               0.8.2+cu110              pypi_0    pypi\r\n",
      "tornado                   6.1              py37h27cfd23_0  \r\n",
      "tqdm                      4.63.1                   pypi_0    pypi\r\n",
      "traitlets                 5.1.1              pyhd3eb1b0_0  \r\n",
      "traits                    6.3.2                    pypi_0    pypi\r\n",
      "traitsui                  7.3.1                    pypi_0    pypi\r\n",
      "typing-extensions         4.1.1                hd3eb1b0_0  \r\n",
      "typing_extensions         4.1.1              pyh06a4308_0  \r\n",
      "vtk                       8.1.2                    pypi_0    pypi\r\n",
      "wcwidth                   0.2.5              pyhd3eb1b0_0  \r\n",
      "webencodings              0.5.1                    py37_1  \r\n",
      "wheel                     0.37.1             pyhd3eb1b0_0  \r\n",
      "widgetsnbextension        3.5.2            py37h06a4308_0  \r\n",
      "wslink                    1.4.3                    pypi_0    pypi\r\n",
      "xz                        5.2.5                h7b6447c_0  \r\n",
      "yarl                      1.7.2                    pypi_0    pypi\r\n",
      "zeromq                    4.3.4                h2531618_0  \r\n",
      "zipp                      3.7.0              pyhd3eb1b0_0  \r\n",
      "zlib                      1.2.11               h7f8727e_4  \r\n"
     ]
    },
    {
     "name": "stdout",
     "output_type": "stream",
     "text": [
      "\n",
      "Note: you may need to restart the kernel to use updated packages.\n"
     ]
    }
   ],
   "source": [
    "conda list"
   ]
  },
  {
   "cell_type": "code",
   "execution_count": null,
   "id": "43607438",
   "metadata": {},
   "outputs": [],
   "source": []
  }
 ],
 "metadata": {
  "kernelspec": {
   "display_name": "pcdet-pa-aug",
   "language": "python",
   "name": "pytorch"
  },
  "language_info": {
   "codemirror_mode": {
    "name": "ipython",
    "version": 3
   },
   "file_extension": ".py",
   "mimetype": "text/x-python",
   "name": "python",
   "nbconvert_exporter": "python",
   "pygments_lexer": "ipython3",
   "version": "3.7.11"
  }
 },
 "nbformat": 4,
 "nbformat_minor": 5
}
